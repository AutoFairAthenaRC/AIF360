{
 "cells": [
  {
   "cell_type": "markdown",
   "metadata": {},
   "source": [
    "# Fairness auditing for subgroups using Fairness Aware Counterfactuals for Subgroups (FACTS).\n",
    "\n",
    "[FACTS](https://arxiv.org/abs/2306.14978) is an efficient, model-agnostic, highly parameterizable, and explainable framework for evaluating subgroup fairness through counterfactual explanations.\n",
    "\n",
    "In this notebook, we will see how to use this algorithm for discovering subgroups where the bias of a model (logistic regression for simplicity) between Males and Females is high.\n",
    "\n",
    "We will use the Adult dataset from UCI ([reference](https://archive.ics.uci.edu/ml/datasets/adult))."
   ]
  },
  {
   "cell_type": "markdown",
   "metadata": {},
   "source": [
    "## Import dependencies\n",
    "\n",
    "As usual in python, the first step is to import all necessary packages."
   ]
  },
  {
   "cell_type": "code",
   "execution_count": 1,
   "metadata": {},
   "outputs": [
    {
     "name": "stderr",
     "output_type": "stream",
     "text": [
      "Using `tqdm.autonotebook.tqdm` in notebook mode. Use `tqdm.tqdm` instead to force console mode (e.g. in jupyter console)\n"
     ]
    }
   ],
   "source": [
    "import pandas as pd\n",
    "import numpy as np\n",
    "import matplotlib.pyplot as plt\n",
    "\n",
    "from sklearn.model_selection import train_test_split\n",
    "from sklearn.linear_model import LogisticRegression\n",
    "from sklearn.compose import ColumnTransformer\n",
    "from sklearn.pipeline import Pipeline\n",
    "from sklearn.preprocessing import OneHotEncoder\n",
    "\n",
    "from aif360.sklearn.datasets.openml_datasets import fetch_adult\n",
    "from aif360.sklearn.detectors.facts import FACTS\n",
    "from aif360.sklearn.detectors.facts.clean import clean_dataset\n",
    "from aif360.sklearn.detectors.facts.formatting import print_recourse_report\n",
    "from aif360.sklearn.detectors.facts.utils import load_rules_by_if, save_rules_by_if\n",
    "\n",
    "from IPython.display import Markdown, display\n",
    "\n",
    "import warnings\n",
    "warnings.filterwarnings(\"ignore\")"
   ]
  },
  {
   "cell_type": "markdown",
   "metadata": {},
   "source": [
    "Below, you can change the `random_seed` variable to `None` if you would like for the pseudo-random parts to actually change between runs. We have set it to a specific value for reproducibility purposes."
   ]
  },
  {
   "cell_type": "code",
   "execution_count": 2,
   "metadata": {},
   "outputs": [],
   "source": [
    "random_seed = 131313 # for reproducibility"
   ]
  },
  {
   "attachments": {},
   "cell_type": "markdown",
   "metadata": {},
   "source": [
    "## Load Dataset"
   ]
  },
  {
   "cell_type": "code",
   "execution_count": 3,
   "metadata": {},
   "outputs": [
    {
     "data": {
      "text/html": [
       "<div>\n",
       "<style scoped>\n",
       "    .dataframe tbody tr th:only-of-type {\n",
       "        vertical-align: middle;\n",
       "    }\n",
       "\n",
       "    .dataframe tbody tr th {\n",
       "        vertical-align: top;\n",
       "    }\n",
       "\n",
       "    .dataframe thead th {\n",
       "        text-align: right;\n",
       "    }\n",
       "</style>\n",
       "<table border=\"1\" class=\"dataframe\">\n",
       "  <thead>\n",
       "    <tr style=\"text-align: right;\">\n",
       "      <th></th>\n",
       "      <th>age</th>\n",
       "      <th>workclass</th>\n",
       "      <th>education-num</th>\n",
       "      <th>marital-status</th>\n",
       "      <th>occupation</th>\n",
       "      <th>relationship</th>\n",
       "      <th>race</th>\n",
       "      <th>sex</th>\n",
       "      <th>capital-gain</th>\n",
       "      <th>capital-loss</th>\n",
       "      <th>hours-per-week</th>\n",
       "      <th>native-country</th>\n",
       "      <th>income</th>\n",
       "    </tr>\n",
       "  </thead>\n",
       "  <tbody>\n",
       "    <tr>\n",
       "      <th>0</th>\n",
       "      <td>(16.999, 26.0]</td>\n",
       "      <td>Private</td>\n",
       "      <td>7.0</td>\n",
       "      <td>Never-married</td>\n",
       "      <td>Machine-op-inspct</td>\n",
       "      <td>Own-child</td>\n",
       "      <td>Black</td>\n",
       "      <td>Male</td>\n",
       "      <td>0.0</td>\n",
       "      <td>0.0</td>\n",
       "      <td>FullTime</td>\n",
       "      <td>United-States</td>\n",
       "      <td>0</td>\n",
       "    </tr>\n",
       "    <tr>\n",
       "      <th>1</th>\n",
       "      <td>(34.0, 41.0]</td>\n",
       "      <td>Private</td>\n",
       "      <td>9.0</td>\n",
       "      <td>Married-civ-spouse</td>\n",
       "      <td>Farming-fishing</td>\n",
       "      <td>Married</td>\n",
       "      <td>White</td>\n",
       "      <td>Male</td>\n",
       "      <td>0.0</td>\n",
       "      <td>0.0</td>\n",
       "      <td>OverTime</td>\n",
       "      <td>United-States</td>\n",
       "      <td>0</td>\n",
       "    </tr>\n",
       "    <tr>\n",
       "      <th>2</th>\n",
       "      <td>(26.0, 34.0]</td>\n",
       "      <td>Local-gov</td>\n",
       "      <td>12.0</td>\n",
       "      <td>Married-civ-spouse</td>\n",
       "      <td>Protective-serv</td>\n",
       "      <td>Married</td>\n",
       "      <td>White</td>\n",
       "      <td>Male</td>\n",
       "      <td>0.0</td>\n",
       "      <td>0.0</td>\n",
       "      <td>FullTime</td>\n",
       "      <td>United-States</td>\n",
       "      <td>1</td>\n",
       "    </tr>\n",
       "    <tr>\n",
       "      <th>3</th>\n",
       "      <td>(41.0, 50.0]</td>\n",
       "      <td>Private</td>\n",
       "      <td>10.0</td>\n",
       "      <td>Married-civ-spouse</td>\n",
       "      <td>Machine-op-inspct</td>\n",
       "      <td>Married</td>\n",
       "      <td>Black</td>\n",
       "      <td>Male</td>\n",
       "      <td>7688.0</td>\n",
       "      <td>0.0</td>\n",
       "      <td>FullTime</td>\n",
       "      <td>United-States</td>\n",
       "      <td>1</td>\n",
       "    </tr>\n",
       "    <tr>\n",
       "      <th>4</th>\n",
       "      <td>(26.0, 34.0]</td>\n",
       "      <td>Private</td>\n",
       "      <td>6.0</td>\n",
       "      <td>Never-married</td>\n",
       "      <td>Other-service</td>\n",
       "      <td>Not-in-family</td>\n",
       "      <td>White</td>\n",
       "      <td>Male</td>\n",
       "      <td>0.0</td>\n",
       "      <td>0.0</td>\n",
       "      <td>MidTime</td>\n",
       "      <td>United-States</td>\n",
       "      <td>0</td>\n",
       "    </tr>\n",
       "  </tbody>\n",
       "</table>\n",
       "</div>"
      ],
      "text/plain": [
       "              age  workclass  education-num      marital-status  \\\n",
       "0  (16.999, 26.0]    Private            7.0       Never-married   \n",
       "1    (34.0, 41.0]    Private            9.0  Married-civ-spouse   \n",
       "2    (26.0, 34.0]  Local-gov           12.0  Married-civ-spouse   \n",
       "3    (41.0, 50.0]    Private           10.0  Married-civ-spouse   \n",
       "4    (26.0, 34.0]    Private            6.0       Never-married   \n",
       "\n",
       "          occupation   relationship   race   sex  capital-gain  capital-loss  \\\n",
       "0  Machine-op-inspct      Own-child  Black  Male           0.0           0.0   \n",
       "1    Farming-fishing        Married  White  Male           0.0           0.0   \n",
       "2    Protective-serv        Married  White  Male           0.0           0.0   \n",
       "3  Machine-op-inspct        Married  Black  Male        7688.0           0.0   \n",
       "4      Other-service  Not-in-family  White  Male           0.0           0.0   \n",
       "\n",
       "  hours-per-week native-country  income  \n",
       "0       FullTime  United-States       0  \n",
       "1       OverTime  United-States       0  \n",
       "2       FullTime  United-States       1  \n",
       "3       FullTime  United-States       1  \n",
       "4        MidTime  United-States       0  "
      ]
     },
     "metadata": {},
     "output_type": "display_data"
    }
   ],
   "source": [
    "X, y, sample_weight = fetch_adult()\n",
    "data = clean_dataset(X.assign(income=y), \"adult\")\n",
    "display(data.head())\n",
    "\n",
    "y = data['income']\n",
    "X = data.drop('income', axis=1)\n",
    "X_train, X_test, y_train, y_test = train_test_split(X, y, train_size=0.7, random_state=random_seed, stratify=y)"
   ]
  },
  {
   "attachments": {},
   "cell_type": "markdown",
   "metadata": {},
   "source": [
    "## Model training and test\n",
    "\n",
    "We use the train set to train a simple logistic regression model. This will serve as the demonstrative model, which we will then treat as a black box and apply our algorithm.\n",
    "\n",
    "Of course, any model can be used in its place. Our purpose here is not to produce a very good model, but to audit the fairness of an arbitrarily chosen one."
   ]
  },
  {
   "cell_type": "code",
   "execution_count": 4,
   "metadata": {},
   "outputs": [],
   "source": [
    "# num_features = X._get_numeric_data().columns.to_list()\n",
    "cate_features = X.select_dtypes(include=['object','category']).columns.to_list()\n",
    "\n",
    "cat_transf = ColumnTransformer(transformers=[\n",
    "    (\"ohe\", OneHotEncoder(), cate_features)\n",
    "], remainder=\"passthrough\")\n",
    "\n",
    "model = Pipeline([\n",
    "    (\"ohe\", cat_transf),\n",
    "    (\"clf\", LogisticRegression(max_iter=1500))\n",
    "])\n",
    "model = model.fit(X_train, y_train)"
   ]
  },
  {
   "cell_type": "code",
   "execution_count": 37,
   "metadata": {},
   "outputs": [
    {
     "data": {
      "text/plain": [
       "11553"
      ]
     },
     "execution_count": 37,
     "metadata": {},
     "output_type": "execute_result"
    }
   ],
   "source": [
    "(y_test.values == preds_Xtest).sum()"
   ]
  },
  {
   "cell_type": "code",
   "execution_count": 31,
   "metadata": {},
   "outputs": [
    {
     "data": {
      "text/plain": [
       "(13567,)"
      ]
     },
     "execution_count": 31,
     "metadata": {},
     "output_type": "execute_result"
    }
   ],
   "source": [
    "preds_Xtest.shape"
   ]
  },
  {
   "cell_type": "code",
   "execution_count": 39,
   "metadata": {},
   "outputs": [
    {
     "name": "stdout",
     "output_type": "stream",
     "text": [
      "Accuracy = 85.16%\n"
     ]
    }
   ],
   "source": [
    "preds_Xtest = model.predict(X_test)\n",
    "print(f\"Accuracy = {(y_test.values == preds_Xtest).sum() / y_test.shape[0]:.2%}\")"
   ]
  },
  {
   "attachments": {},
   "cell_type": "markdown",
   "metadata": {},
   "source": [
    "# Main Contribution\n",
    "\n",
    "Here begins the implementation of the actual contribution of our work. Specifically, we demonstrate the generation of candidate subgroup counterfactuals and, as the next phase, the choice of those subgroup counterfactuals that showcase the highest unfairness, according to several metrics."
   ]
  },
  {
   "attachments": {},
   "cell_type": "markdown",
   "metadata": {},
   "source": [
    "<!-- ## Find all valid if-thens with all respective coverages and atomic correctness, for all subgroups.\n",
    "\n",
    "The first step is to generate as many as possible (and tractable) candidate counterfactuals, in the form of if-then clauses (e.g. if your education is \"High School\", make it \"College\"). At the same time, we compute the *effectiveness* for each such if-then clause, which is defined as the percentage of the subgroup which the suggestion actually manages to flip to the positive class (in the previous example, from those people who have \"High School\" and receive 0 from the model, what percentage receives 1 if we were to change their education to \"College\").\n",
    "\n",
    "For more details on these concepts and more rigorous definitions, see our paper.\n",
    "\n",
    "*Note*: our framework provides somewhat extensive parameterization. Descriptions of all choices are provided in the documentation. In this demo, we have tried to keep only some basic defaults for easier understanding. For some cases, this was a little difficult, so we have provided appropriate comments in the following code in order to inform the reader of those parts of the code that should be ignored, at least at first glance.\n",
    "\n",
    "**Caution!** This step takes time. Uncomment the following block if you wish to run. -->"
   ]
  },
  {
   "cell_type": "code",
   "execution_count": 6,
   "metadata": {},
   "outputs": [],
   "source": [
    "detector = FACTS(\n",
    "    estimator=model,\n",
    "    prot_attr=\"sex\",\n",
    "    feature_weights={f: 1 for f in X.columns}\n",
    ")"
   ]
  },
  {
   "cell_type": "code",
   "execution_count": 7,
   "metadata": {},
   "outputs": [
    {
     "name": "stdout",
     "output_type": "stream",
     "text": [
      "Computing frequent itemsets for each subgroup of the affected instances.\n"
     ]
    },
    {
     "name": "stderr",
     "output_type": "stream",
     "text": [
      "100%|████████████████████████████████████████████████████████████████████████████████████| 2/2 [00:00<00:00,  7.79it/s]"
     ]
    },
    {
     "name": "stdout",
     "output_type": "stream",
     "text": [
      "Computing the intersection between the frequent itemsets of each subgroup of the affected instances.\n"
     ]
    },
    {
     "name": "stderr",
     "output_type": "stream",
     "text": [
      "\n",
      "100%|██████████████████████████████████████████████████████████████████████████| 1046/1046 [00:00<00:00, 520679.09it/s]"
     ]
    },
    {
     "name": "stdout",
     "output_type": "stream",
     "text": [
      "Number of subgroups in the intersection: 563\n",
      "Computing all valid if-then pairs between the common frequent itemsets of each subgroup of the affected instances and the frequent itemsets of the unaffacted instances.\n"
     ]
    },
    {
     "name": "stderr",
     "output_type": "stream",
     "text": [
      "\n",
      "100%|█████████████████████████████████████████████████████████████████████████████| 563/563 [00:00<00:00, 56100.76it/s]"
     ]
    },
    {
     "name": "stdout",
     "output_type": "stream",
     "text": [
      "Computing correctenesses for all valid if-thens.\n"
     ]
    },
    {
     "name": "stderr",
     "output_type": "stream",
     "text": [
      "\n",
      "100%|████████████████████████████████████████████████████████████████████████████████| 590/590 [00:12<00:00, 46.36it/s]\n",
      "100%|████████████████████████████████████████████████████████████████████████████████| 416/416 [00:11<00:00, 35.34it/s]\n"
     ]
    },
    {
     "data": {
      "text/html": [
       "<style>#sk-container-id-1 {color: black;background-color: white;}#sk-container-id-1 pre{padding: 0;}#sk-container-id-1 div.sk-toggleable {background-color: white;}#sk-container-id-1 label.sk-toggleable__label {cursor: pointer;display: block;width: 100%;margin-bottom: 0;padding: 0.3em;box-sizing: border-box;text-align: center;}#sk-container-id-1 label.sk-toggleable__label-arrow:before {content: \"▸\";float: left;margin-right: 0.25em;color: #696969;}#sk-container-id-1 label.sk-toggleable__label-arrow:hover:before {color: black;}#sk-container-id-1 div.sk-estimator:hover label.sk-toggleable__label-arrow:before {color: black;}#sk-container-id-1 div.sk-toggleable__content {max-height: 0;max-width: 0;overflow: hidden;text-align: left;background-color: #f0f8ff;}#sk-container-id-1 div.sk-toggleable__content pre {margin: 0.2em;color: black;border-radius: 0.25em;background-color: #f0f8ff;}#sk-container-id-1 input.sk-toggleable__control:checked~div.sk-toggleable__content {max-height: 200px;max-width: 100%;overflow: auto;}#sk-container-id-1 input.sk-toggleable__control:checked~label.sk-toggleable__label-arrow:before {content: \"▾\";}#sk-container-id-1 div.sk-estimator input.sk-toggleable__control:checked~label.sk-toggleable__label {background-color: #d4ebff;}#sk-container-id-1 div.sk-label input.sk-toggleable__control:checked~label.sk-toggleable__label {background-color: #d4ebff;}#sk-container-id-1 input.sk-hidden--visually {border: 0;clip: rect(1px 1px 1px 1px);clip: rect(1px, 1px, 1px, 1px);height: 1px;margin: -1px;overflow: hidden;padding: 0;position: absolute;width: 1px;}#sk-container-id-1 div.sk-estimator {font-family: monospace;background-color: #f0f8ff;border: 1px dotted black;border-radius: 0.25em;box-sizing: border-box;margin-bottom: 0.5em;}#sk-container-id-1 div.sk-estimator:hover {background-color: #d4ebff;}#sk-container-id-1 div.sk-parallel-item::after {content: \"\";width: 100%;border-bottom: 1px solid gray;flex-grow: 1;}#sk-container-id-1 div.sk-label:hover label.sk-toggleable__label {background-color: #d4ebff;}#sk-container-id-1 div.sk-serial::before {content: \"\";position: absolute;border-left: 1px solid gray;box-sizing: border-box;top: 0;bottom: 0;left: 50%;z-index: 0;}#sk-container-id-1 div.sk-serial {display: flex;flex-direction: column;align-items: center;background-color: white;padding-right: 0.2em;padding-left: 0.2em;position: relative;}#sk-container-id-1 div.sk-item {position: relative;z-index: 1;}#sk-container-id-1 div.sk-parallel {display: flex;align-items: stretch;justify-content: center;background-color: white;position: relative;}#sk-container-id-1 div.sk-item::before, #sk-container-id-1 div.sk-parallel-item::before {content: \"\";position: absolute;border-left: 1px solid gray;box-sizing: border-box;top: 0;bottom: 0;left: 50%;z-index: -1;}#sk-container-id-1 div.sk-parallel-item {display: flex;flex-direction: column;z-index: 1;position: relative;background-color: white;}#sk-container-id-1 div.sk-parallel-item:first-child::after {align-self: flex-end;width: 50%;}#sk-container-id-1 div.sk-parallel-item:last-child::after {align-self: flex-start;width: 50%;}#sk-container-id-1 div.sk-parallel-item:only-child::after {width: 0;}#sk-container-id-1 div.sk-dashed-wrapped {border: 1px dashed gray;margin: 0 0.4em 0.5em 0.4em;box-sizing: border-box;padding-bottom: 0.4em;background-color: white;}#sk-container-id-1 div.sk-label label {font-family: monospace;font-weight: bold;display: inline-block;line-height: 1.2em;}#sk-container-id-1 div.sk-label-container {text-align: center;}#sk-container-id-1 div.sk-container {/* jupyter's `normalize.less` sets `[hidden] { display: none; }` but bootstrap.min.css set `[hidden] { display: none !important; }` so we also need the `!important` here to be able to override the default hidden behavior on the sphinx rendered scikit-learn.org. See: https://github.com/scikit-learn/scikit-learn/issues/21755 */display: inline-block !important;position: relative;}#sk-container-id-1 div.sk-text-repr-fallback {display: none;}</style><div id=\"sk-container-id-1\" class=\"sk-top-container\"><div class=\"sk-text-repr-fallback\"><pre>FACTS(cate_features=[&#x27;age&#x27;, &#x27;workclass&#x27;, &#x27;marital-status&#x27;, &#x27;occupation&#x27;,\n",
       "                     &#x27;relationship&#x27;, &#x27;race&#x27;, &#x27;sex&#x27;, &#x27;hours-per-week&#x27;,\n",
       "                     &#x27;native-country&#x27;],\n",
       "      estimator=Pipeline(steps=[(&#x27;ohe&#x27;,\n",
       "                                 ColumnTransformer(remainder=&#x27;passthrough&#x27;,\n",
       "                                                   transformers=[(&#x27;ohe&#x27;,\n",
       "                                                                  OneHotEncoder(),\n",
       "                                                                  [&#x27;age&#x27;,\n",
       "                                                                   &#x27;workclass&#x27;,\n",
       "                                                                   &#x27;marital-status&#x27;,\n",
       "                                                                   &#x27;occupation&#x27;,\n",
       "                                                                   &#x27;relationship&#x27;,\n",
       "                                                                   &#x27;race&#x27;,\n",
       "                                                                   &#x27;sex&#x27;,\n",
       "                                                                   &#x27;hours-per-week&#x27;,\n",
       "                                                                   &#x27;native-country&#x27;])])),\n",
       "                                (&#x27;clf&#x27;, LogisticRegression(max_iter=1500))]),\n",
       "      feature_weights={&#x27;age&#x27;: 1, &#x27;capital-gain&#x27;: 1, &#x27;capital-loss&#x27;: 1,\n",
       "                       &#x27;education-num&#x27;: 1, &#x27;hours-per-week&#x27;: 1,\n",
       "                       &#x27;marital-status&#x27;: 1, &#x27;native-country&#x27;: 1,\n",
       "                       &#x27;occupation&#x27;: 1, &#x27;race&#x27;: 1, &#x27;relationship&#x27;: 1, &#x27;sex&#x27;: 1,\n",
       "                       &#x27;workclass&#x27;: 1},\n",
       "      prot_attr=&#x27;sex&#x27;)</pre><b>In a Jupyter environment, please rerun this cell to show the HTML representation or trust the notebook. <br />On GitHub, the HTML representation is unable to render, please try loading this page with nbviewer.org.</b></div><div class=\"sk-container\" hidden><div class=\"sk-item sk-dashed-wrapped\"><div class=\"sk-label-container\"><div class=\"sk-label sk-toggleable\"><input class=\"sk-toggleable__control sk-hidden--visually\" id=\"sk-estimator-id-1\" type=\"checkbox\" ><label for=\"sk-estimator-id-1\" class=\"sk-toggleable__label sk-toggleable__label-arrow\">FACTS</label><div class=\"sk-toggleable__content\"><pre>FACTS(cate_features=[&#x27;age&#x27;, &#x27;workclass&#x27;, &#x27;marital-status&#x27;, &#x27;occupation&#x27;,\n",
       "                     &#x27;relationship&#x27;, &#x27;race&#x27;, &#x27;sex&#x27;, &#x27;hours-per-week&#x27;,\n",
       "                     &#x27;native-country&#x27;],\n",
       "      estimator=Pipeline(steps=[(&#x27;ohe&#x27;,\n",
       "                                 ColumnTransformer(remainder=&#x27;passthrough&#x27;,\n",
       "                                                   transformers=[(&#x27;ohe&#x27;,\n",
       "                                                                  OneHotEncoder(),\n",
       "                                                                  [&#x27;age&#x27;,\n",
       "                                                                   &#x27;workclass&#x27;,\n",
       "                                                                   &#x27;marital-status&#x27;,\n",
       "                                                                   &#x27;occupation&#x27;,\n",
       "                                                                   &#x27;relationship&#x27;,\n",
       "                                                                   &#x27;race&#x27;,\n",
       "                                                                   &#x27;sex&#x27;,\n",
       "                                                                   &#x27;hours-per-week&#x27;,\n",
       "                                                                   &#x27;native-country&#x27;])])),\n",
       "                                (&#x27;clf&#x27;, LogisticRegression(max_iter=1500))]),\n",
       "      feature_weights={&#x27;age&#x27;: 1, &#x27;capital-gain&#x27;: 1, &#x27;capital-loss&#x27;: 1,\n",
       "                       &#x27;education-num&#x27;: 1, &#x27;hours-per-week&#x27;: 1,\n",
       "                       &#x27;marital-status&#x27;: 1, &#x27;native-country&#x27;: 1,\n",
       "                       &#x27;occupation&#x27;: 1, &#x27;race&#x27;: 1, &#x27;relationship&#x27;: 1, &#x27;sex&#x27;: 1,\n",
       "                       &#x27;workclass&#x27;: 1},\n",
       "      prot_attr=&#x27;sex&#x27;)</pre></div></div></div><div class=\"sk-parallel\"><div class=\"sk-parallel-item\"><div class=\"sk-item\"><div class=\"sk-label-container\"><div class=\"sk-label sk-toggleable\"><input class=\"sk-toggleable__control sk-hidden--visually\" id=\"sk-estimator-id-2\" type=\"checkbox\" ><label for=\"sk-estimator-id-2\" class=\"sk-toggleable__label sk-toggleable__label-arrow\">estimator: Pipeline</label><div class=\"sk-toggleable__content\"><pre>Pipeline(steps=[(&#x27;ohe&#x27;,\n",
       "                 ColumnTransformer(remainder=&#x27;passthrough&#x27;,\n",
       "                                   transformers=[(&#x27;ohe&#x27;, OneHotEncoder(),\n",
       "                                                  [&#x27;age&#x27;, &#x27;workclass&#x27;,\n",
       "                                                   &#x27;marital-status&#x27;,\n",
       "                                                   &#x27;occupation&#x27;, &#x27;relationship&#x27;,\n",
       "                                                   &#x27;race&#x27;, &#x27;sex&#x27;,\n",
       "                                                   &#x27;hours-per-week&#x27;,\n",
       "                                                   &#x27;native-country&#x27;])])),\n",
       "                (&#x27;clf&#x27;, LogisticRegression(max_iter=1500))])</pre></div></div></div><div class=\"sk-serial\"><div class=\"sk-item\"><div class=\"sk-serial\"><div class=\"sk-item sk-dashed-wrapped\"><div class=\"sk-label-container\"><div class=\"sk-label sk-toggleable\"><input class=\"sk-toggleable__control sk-hidden--visually\" id=\"sk-estimator-id-3\" type=\"checkbox\" ><label for=\"sk-estimator-id-3\" class=\"sk-toggleable__label sk-toggleable__label-arrow\">ohe: ColumnTransformer</label><div class=\"sk-toggleable__content\"><pre>ColumnTransformer(remainder=&#x27;passthrough&#x27;,\n",
       "                  transformers=[(&#x27;ohe&#x27;, OneHotEncoder(),\n",
       "                                 [&#x27;age&#x27;, &#x27;workclass&#x27;, &#x27;marital-status&#x27;,\n",
       "                                  &#x27;occupation&#x27;, &#x27;relationship&#x27;, &#x27;race&#x27;, &#x27;sex&#x27;,\n",
       "                                  &#x27;hours-per-week&#x27;, &#x27;native-country&#x27;])])</pre></div></div></div><div class=\"sk-parallel\"><div class=\"sk-parallel-item\"><div class=\"sk-item\"><div class=\"sk-label-container\"><div class=\"sk-label sk-toggleable\"><input class=\"sk-toggleable__control sk-hidden--visually\" id=\"sk-estimator-id-4\" type=\"checkbox\" ><label for=\"sk-estimator-id-4\" class=\"sk-toggleable__label sk-toggleable__label-arrow\">ohe</label><div class=\"sk-toggleable__content\"><pre>[&#x27;age&#x27;, &#x27;workclass&#x27;, &#x27;marital-status&#x27;, &#x27;occupation&#x27;, &#x27;relationship&#x27;, &#x27;race&#x27;, &#x27;sex&#x27;, &#x27;hours-per-week&#x27;, &#x27;native-country&#x27;]</pre></div></div></div><div class=\"sk-serial\"><div class=\"sk-item\"><div class=\"sk-estimator sk-toggleable\"><input class=\"sk-toggleable__control sk-hidden--visually\" id=\"sk-estimator-id-5\" type=\"checkbox\" ><label for=\"sk-estimator-id-5\" class=\"sk-toggleable__label sk-toggleable__label-arrow\">OneHotEncoder</label><div class=\"sk-toggleable__content\"><pre>OneHotEncoder()</pre></div></div></div></div></div></div><div class=\"sk-parallel-item\"><div class=\"sk-item\"><div class=\"sk-label-container\"><div class=\"sk-label sk-toggleable\"><input class=\"sk-toggleable__control sk-hidden--visually\" id=\"sk-estimator-id-6\" type=\"checkbox\" ><label for=\"sk-estimator-id-6\" class=\"sk-toggleable__label sk-toggleable__label-arrow\">remainder</label><div class=\"sk-toggleable__content\"><pre>[&#x27;education-num&#x27;, &#x27;capital-gain&#x27;, &#x27;capital-loss&#x27;]</pre></div></div></div><div class=\"sk-serial\"><div class=\"sk-item\"><div class=\"sk-estimator sk-toggleable\"><input class=\"sk-toggleable__control sk-hidden--visually\" id=\"sk-estimator-id-7\" type=\"checkbox\" ><label for=\"sk-estimator-id-7\" class=\"sk-toggleable__label sk-toggleable__label-arrow\">passthrough</label><div class=\"sk-toggleable__content\"><pre>passthrough</pre></div></div></div></div></div></div></div></div><div class=\"sk-item\"><div class=\"sk-estimator sk-toggleable\"><input class=\"sk-toggleable__control sk-hidden--visually\" id=\"sk-estimator-id-8\" type=\"checkbox\" ><label for=\"sk-estimator-id-8\" class=\"sk-toggleable__label sk-toggleable__label-arrow\">LogisticRegression</label><div class=\"sk-toggleable__content\"><pre>LogisticRegression(max_iter=1500)</pre></div></div></div></div></div></div></div></div></div></div></div></div>"
      ],
      "text/plain": [
       "FACTS(cate_features=['age', 'workclass', 'marital-status', 'occupation',\n",
       "                     'relationship', 'race', 'sex', 'hours-per-week',\n",
       "                     'native-country'],\n",
       "      estimator=Pipeline(steps=[('ohe',\n",
       "                                 ColumnTransformer(remainder='passthrough',\n",
       "                                                   transformers=[('ohe',\n",
       "                                                                  OneHotEncoder(),\n",
       "                                                                  ['age',\n",
       "                                                                   'workclass',\n",
       "                                                                   'marital-status',\n",
       "                                                                   'occupation',\n",
       "                                                                   'relationship',\n",
       "                                                                   'race',\n",
       "                                                                   'sex',\n",
       "                                                                   'hours-per-week',\n",
       "                                                                   'native-country'])])),\n",
       "                                ('clf', LogisticRegression(max_iter=1500))]),\n",
       "      feature_weights={'age': 1, 'capital-gain': 1, 'capital-loss': 1,\n",
       "                       'education-num': 1, 'hours-per-week': 1,\n",
       "                       'marital-status': 1, 'native-country': 1,\n",
       "                       'occupation': 1, 'race': 1, 'relationship': 1, 'sex': 1,\n",
       "                       'workclass': 1},\n",
       "      prot_attr='sex')"
      ]
     },
     "execution_count": 7,
     "metadata": {},
     "output_type": "execute_result"
    }
   ],
   "source": [
    "detector.fit(X_test)"
   ]
  },
  {
   "attachments": {},
   "cell_type": "markdown",
   "metadata": {},
   "source": [
    "We continue with the rankings and selection of rules according to each of the proposed metrics of our paper."
   ]
  },
  {
   "attachments": {},
   "cell_type": "markdown",
   "metadata": {},
   "source": [
    "### Equal Choice for Recourse\n",
    "\n",
    "For each set of rules with the safe \"if\", we compare the number of counterfactuals (\"then\" clauses) that achieve a specified effectiveness threshold for Males and Females."
   ]
  },
  {
   "cell_type": "code",
   "execution_count": 19,
   "metadata": {},
   "outputs": [],
   "source": [
    "top_subgroups, subgroup_costs = detector.bias_scan(\n",
    "    metric=\"atomic-num-above-corr\",\n",
    "    cor_threshold=0.2\n",
    ")"
   ]
  },
  {
   "cell_type": "code",
   "execution_count": 20,
   "metadata": {},
   "outputs": [
    {
     "name": "stdout",
     "output_type": "stream",
     "text": [
      "If \u001b[1mcapital-gain = 0.0, marital-status = Never-married, relationship = Not-in-family, workclass = Private\u001b[0m:\n",
      "\tProtected Subgroup '\u001b[1mFemale\u001b[0m', \u001b[34m15.70%\u001b[39m covered out of 4033\n",
      "\t\tMake \u001b[1m\u001b[31mmarital-status = Married-civ-spouse\u001b[39m, \u001b[31mrelationship = Married\u001b[39m\u001b[0m with effectiveness \u001b[32m21.01%\u001b[39m.\n",
      "\t\t\u001b[1mAggregate cost\u001b[0m of the above recourses = \u001b[35m-1.00\u001b[39m\n",
      "\tProtected Subgroup '\u001b[1mMale\u001b[0m', \u001b[34m12.90%\u001b[39m covered out of 6830\n",
      "\t\tMake \u001b[1m\u001b[31mmarital-status = Married-civ-spouse\u001b[39m, \u001b[31mrelationship = Married\u001b[39m\u001b[0m with effectiveness \u001b[32m19.41%\u001b[39m.\n",
      "\t\t\u001b[1mAggregate cost\u001b[0m of the above recourses = \u001b[35m0.00\u001b[39m\n",
      "\t\u001b[35mBias against Male due to Equal Effectiveness. Unfairness score = 1.\u001b[39m\n",
      "If \u001b[1mcapital-loss = 0.0, marital-status = Never-married, relationship = Not-in-family, workclass = Private\u001b[0m:\n",
      "\tProtected Subgroup '\u001b[1mFemale\u001b[0m', \u001b[34m15.70%\u001b[39m covered out of 4033\n",
      "\t\tMake \u001b[1m\u001b[31mmarital-status = Married-civ-spouse\u001b[39m, \u001b[31mrelationship = Married\u001b[39m\u001b[0m with effectiveness \u001b[32m20.85%\u001b[39m.\n",
      "\t\t\u001b[1mAggregate cost\u001b[0m of the above recourses = \u001b[35m-1.00\u001b[39m\n",
      "\tProtected Subgroup '\u001b[1mMale\u001b[0m', \u001b[34m12.72%\u001b[39m covered out of 6830\n",
      "\t\tMake \u001b[1m\u001b[31mmarital-status = Married-civ-spouse\u001b[39m, \u001b[31mrelationship = Married\u001b[39m\u001b[0m with effectiveness \u001b[32m18.41%\u001b[39m.\n",
      "\t\t\u001b[1mAggregate cost\u001b[0m of the above recourses = \u001b[35m0.00\u001b[39m\n",
      "\t\u001b[35mBias against Male due to Equal Effectiveness. Unfairness score = 1.\u001b[39m\n",
      "If \u001b[1mcapital-gain = 0.0, marital-status = Never-married, native-country = United-States, relationship = Not-in-family, workclass = Private\u001b[0m:\n",
      "\tProtected Subgroup '\u001b[1mFemale\u001b[0m', \u001b[34m14.53%\u001b[39m covered out of 4033\n",
      "\t\tMake \u001b[1m\u001b[31mmarital-status = Married-civ-spouse\u001b[39m, \u001b[31mrelationship = Married\u001b[39m\u001b[0m with effectiveness \u001b[32m21.33%\u001b[39m.\n",
      "\t\t\u001b[1mAggregate cost\u001b[0m of the above recourses = \u001b[35m-1.00\u001b[39m\n",
      "\tProtected Subgroup '\u001b[1mMale\u001b[0m', \u001b[34m11.55%\u001b[39m covered out of 6830\n",
      "\t\tMake \u001b[1m\u001b[31mmarital-status = Married-civ-spouse\u001b[39m, \u001b[31mrelationship = Married\u001b[39m\u001b[0m with effectiveness \u001b[32m19.77%\u001b[39m.\n",
      "\t\t\u001b[1mAggregate cost\u001b[0m of the above recourses = \u001b[35m0.00\u001b[39m\n",
      "\t\u001b[35mBias against Male due to Equal Effectiveness. Unfairness score = 1.\u001b[39m\n",
      "If \u001b[1mcapital-loss = 0.0, marital-status = Never-married, native-country = United-States, relationship = Not-in-family, workclass = Private\u001b[0m:\n",
      "\tProtected Subgroup '\u001b[1mFemale\u001b[0m', \u001b[34m14.53%\u001b[39m covered out of 4033\n",
      "\t\tMake \u001b[1m\u001b[31mmarital-status = Married-civ-spouse\u001b[39m, \u001b[31mrelationship = Married\u001b[39m\u001b[0m with effectiveness \u001b[32m21.16%\u001b[39m.\n",
      "\t\t\u001b[1mAggregate cost\u001b[0m of the above recourses = \u001b[35m-1.00\u001b[39m\n",
      "\tProtected Subgroup '\u001b[1mMale\u001b[0m', \u001b[34m11.36%\u001b[39m covered out of 6830\n",
      "\t\tMake \u001b[1m\u001b[31mmarital-status = Married-civ-spouse\u001b[39m, \u001b[31mrelationship = Married\u001b[39m\u001b[0m with effectiveness \u001b[32m18.94%\u001b[39m.\n",
      "\t\t\u001b[1mAggregate cost\u001b[0m of the above recourses = \u001b[35m0.00\u001b[39m\n",
      "\t\u001b[35mBias against Male due to Equal Effectiveness. Unfairness score = 1.\u001b[39m\n",
      "If \u001b[1mcapital-loss = 0.0, marital-status = Never-married, race = White, relationship = Not-in-family, workclass = Private\u001b[0m:\n",
      "\tProtected Subgroup '\u001b[1mFemale\u001b[0m', \u001b[34m13.61%\u001b[39m covered out of 4033\n",
      "\t\tMake \u001b[1m\u001b[31mmarital-status = Married-civ-spouse\u001b[39m, \u001b[31mrelationship = Married\u001b[39m\u001b[0m with effectiveness \u001b[32m22.04%\u001b[39m.\n",
      "\t\t\u001b[1mAggregate cost\u001b[0m of the above recourses = \u001b[35m-1.00\u001b[39m\n",
      "\tProtected Subgroup '\u001b[1mMale\u001b[0m', \u001b[34m10.91%\u001b[39m covered out of 6830\n",
      "\t\tMake \u001b[1m\u001b[31mmarital-status = Married-civ-spouse\u001b[39m, \u001b[31mrelationship = Married\u001b[39m\u001b[0m with effectiveness \u001b[32m19.19%\u001b[39m.\n",
      "\t\t\u001b[1mAggregate cost\u001b[0m of the above recourses = \u001b[35m0.00\u001b[39m\n",
      "\t\u001b[35mBias against Male due to Equal Effectiveness. Unfairness score = 1.\u001b[39m\n",
      "If \u001b[1mcapital-gain = 0.0, capital-loss = 0.0, marital-status = Never-married, race = White, relationship = Not-in-family, workclass = Private\u001b[0m:\n",
      "\tProtected Subgroup '\u001b[1mFemale\u001b[0m', \u001b[34m13.19%\u001b[39m covered out of 4033\n",
      "\t\tMake \u001b[1m\u001b[31mmarital-status = Married-civ-spouse\u001b[39m, \u001b[31mrelationship = Married\u001b[39m\u001b[0m with effectiveness \u001b[32m20.86%\u001b[39m.\n",
      "\t\t\u001b[1mAggregate cost\u001b[0m of the above recourses = \u001b[35m-1.00\u001b[39m\n",
      "\tProtected Subgroup '\u001b[1mMale\u001b[0m', \u001b[34m10.64%\u001b[39m covered out of 6830\n",
      "\t\tMake \u001b[1m\u001b[31mmarital-status = Married-civ-spouse\u001b[39m, \u001b[31mrelationship = Married\u001b[39m\u001b[0m with effectiveness \u001b[32m18.57%\u001b[39m.\n",
      "\t\t\u001b[1mAggregate cost\u001b[0m of the above recourses = \u001b[35m0.00\u001b[39m\n",
      "\t\u001b[35mBias against Male due to Equal Effectiveness. Unfairness score = 1.\u001b[39m\n",
      "If \u001b[1mcapital-loss = 0.0, marital-status = Never-married, native-country = United-States, race = White, relationship = Not-in-family, workclass = Private\u001b[0m:\n",
      "\tProtected Subgroup '\u001b[1mFemale\u001b[0m', \u001b[34m12.87%\u001b[39m covered out of 4033\n",
      "\t\tMake \u001b[1m\u001b[31mmarital-status = Married-civ-spouse\u001b[39m, \u001b[31mrelationship = Married\u001b[39m\u001b[0m with effectiveness \u001b[32m22.35%\u001b[39m.\n",
      "\t\t\u001b[1mAggregate cost\u001b[0m of the above recourses = \u001b[35m-1.00\u001b[39m\n",
      "\tProtected Subgroup '\u001b[1mMale\u001b[0m', \u001b[34m10.03%\u001b[39m covered out of 6830\n",
      "\t\tMake \u001b[1m\u001b[31mmarital-status = Married-civ-spouse\u001b[39m, \u001b[31mrelationship = Married\u001b[39m\u001b[0m with effectiveness \u001b[32m19.85%\u001b[39m.\n",
      "\t\t\u001b[1mAggregate cost\u001b[0m of the above recourses = \u001b[35m0.00\u001b[39m\n",
      "\t\u001b[35mBias against Male due to Equal Effectiveness. Unfairness score = 1.\u001b[39m\n",
      "If \u001b[1mworkclass = Private\u001b[0m:\n",
      "\tProtected Subgroup '\u001b[1mFemale\u001b[0m', \u001b[34m79.47%\u001b[39m covered out of 4033\n",
      "\t\tMake \u001b[1m\u001b[31mworkclass = Self-emp-inc\u001b[39m\u001b[0m with effectiveness \u001b[32m0.59%\u001b[39m.\n",
      "\t\t\u001b[1mAggregate cost\u001b[0m of the above recourses = \u001b[35m0.00\u001b[39m\n",
      "\tProtected Subgroup '\u001b[1mMale\u001b[0m', \u001b[34m74.76%\u001b[39m covered out of 6830\n",
      "\t\tMake \u001b[1m\u001b[31mworkclass = Self-emp-inc\u001b[39m\u001b[0m with effectiveness \u001b[32m3.72%\u001b[39m.\n",
      "\t\t\u001b[1mAggregate cost\u001b[0m of the above recourses = \u001b[35m0.00\u001b[39m\n",
      "\t\u001b[35mNo bias!\u001b[39m\n",
      "If \u001b[1mhours-per-week = FullTime\u001b[0m:\n",
      "\tProtected Subgroup '\u001b[1mFemale\u001b[0m', \u001b[34m46.62%\u001b[39m covered out of 4033\n",
      "\t\tMake \u001b[1m\u001b[31mhours-per-week = OverTime\u001b[39m\u001b[0m with effectiveness \u001b[32m2.50%\u001b[39m.\n",
      "\t\tMake \u001b[1m\u001b[31mhours-per-week = BrainDrain\u001b[39m\u001b[0m with effectiveness \u001b[32m1.76%\u001b[39m.\n",
      "\t\t\u001b[1mAggregate cost\u001b[0m of the above recourses = \u001b[35m0.00\u001b[39m\n",
      "\tProtected Subgroup '\u001b[1mMale\u001b[0m', \u001b[34m52.50%\u001b[39m covered out of 6830\n",
      "\t\tMake \u001b[1m\u001b[31mhours-per-week = OverTime\u001b[39m\u001b[0m with effectiveness \u001b[32m9.56%\u001b[39m.\n",
      "\t\tMake \u001b[1m\u001b[31mhours-per-week = BrainDrain\u001b[39m\u001b[0m with effectiveness \u001b[32m8.28%\u001b[39m.\n",
      "\t\t\u001b[1mAggregate cost\u001b[0m of the above recourses = \u001b[35m0.00\u001b[39m\n",
      "\t\u001b[35mNo bias!\u001b[39m\n",
      "If \u001b[1mmarital-status = Never-married\u001b[0m:\n",
      "\tProtected Subgroup '\u001b[1mFemale\u001b[0m', \u001b[34m46.57%\u001b[39m covered out of 4033\n",
      "\t\tMake \u001b[1m\u001b[31mmarital-status = Married-civ-spouse\u001b[39m\u001b[0m with effectiveness \u001b[32m5.27%\u001b[39m.\n",
      "\t\t\u001b[1mAggregate cost\u001b[0m of the above recourses = \u001b[35m0.00\u001b[39m\n",
      "\tProtected Subgroup '\u001b[1mMale\u001b[0m', \u001b[34m36.02%\u001b[39m covered out of 6830\n",
      "\t\tMake \u001b[1m\u001b[31mmarital-status = Married-civ-spouse\u001b[39m\u001b[0m with effectiveness \u001b[32m4.63%\u001b[39m.\n",
      "\t\t\u001b[1mAggregate cost\u001b[0m of the above recourses = \u001b[35m0.00\u001b[39m\n",
      "\t\u001b[35mNo bias!\u001b[39m\n"
     ]
    }
   ],
   "source": [
    "pop_sizes = {sg: ((X_test[\"sex\"] == sg) & (preds_Xtest == 0)).sum() for sg in X_test[\"sex\"].unique()}\n",
    "print_recourse_report(\n",
    "    top_subgroups,\n",
    "    population_sizes=pop_sizes,\n",
    "    subgroup_costs=subgroup_costs,\n",
    "    show_subgroup_costs=True\n",
    ")"
   ]
  },
  {
   "cell_type": "code",
   "execution_count": null,
   "metadata": {},
   "outputs": [],
   "source": []
  }
 ],
 "metadata": {
  "kernelspec": {
   "display_name": "Python 3 (ipykernel)",
   "language": "python",
   "name": "python3"
  },
  "language_info": {
   "codemirror_mode": {
    "name": "ipython",
    "version": 3
   },
   "file_extension": ".py",
   "mimetype": "text/x-python",
   "name": "python",
   "nbconvert_exporter": "python",
   "pygments_lexer": "ipython3",
   "version": "3.10.12"
  }
 },
 "nbformat": 4,
 "nbformat_minor": 4
}
